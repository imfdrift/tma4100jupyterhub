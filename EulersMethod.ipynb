{
 "cells": [
  {
   "cell_type": "markdown",
   "metadata": {},
   "source": [
    "<!-- KODE = \"ja\", \"nei\", default \"ja\" -->\n",
    "\n",
    "\n",
    "\n",
    "<!-- dom:AUTHOR: TMA4100 Matematikk 1 -->\n",
    "<!-- Author: -->  \n",
    "**TMA4100 Matematikk 1**\n",
    "<!-- dom:TITLE: Euler's method for ordinary differential equations -->\n",
    "# Euler's method for ordinary differential equations\n",
    "\n",
    "Date: **November 16, 2020**\n",
    "\n",
    "$\\newcommand{mb}[1]{\\mathbf{#1}}$\n",
    "\n",
    "\n",
    "\n",
    "\n",
    "# The method\n",
    "Consider the initial value problem for the ordinary differential equation:"
   ]
  },
  {
   "cell_type": "markdown",
   "metadata": {},
   "source": [
    "$$\n",
    "y'(x) = f(x,y(x)), \\quad x\\in(x_0,x_{\\text{end}});\\qquad y(x_0)=y_0.\n",
    "$$"
   ]
  },
  {
   "cell_type": "markdown",
   "metadata": {},
   "source": [
    "For $N\\in \\mathbb N$, we define the step size $h$ and nodes $x_n$ by"
   ]
  },
  {
   "cell_type": "markdown",
   "metadata": {},
   "source": [
    "$$\n",
    "h=\\dfrac{x_{\\text{end}}-x_0}N\\qquad \\text{and}\\qquad x_n=x_0+nh\\qquad\\text{for}\\qquad n=0,1,\\dots,N.\n",
    "$$"
   ]
  },
  {
   "cell_type": "markdown",
   "metadata": {},
   "source": [
    "Taylor expand the exact solution $y(x_0+h)$ around $x_0$:"
   ]
  },
  {
   "cell_type": "markdown",
   "metadata": {},
   "source": [
    "$$\n",
    "y(x_0+h) = y(x_0) + h y'(x_0) + \\frac{1}{2}h^2 y''(\\xi)\n",
    "\\qquad\\text{for some}\\qquad \\xi\\in(x_0,x_0+h).\n",
    "$$"
   ]
  },
  {
   "cell_type": "markdown",
   "metadata": {},
   "source": [
    "When $h$ is small (and $y''$ bounded), we see that"
   ]
  },
  {
   "cell_type": "markdown",
   "metadata": {},
   "source": [
    "$$\n",
    "y(x_0+h) \\approx  y(x_0) + h y'(x_0) = y_0 + hf(x_0, y_0) =: y_{1}.\n",
    "$$"
   ]
  },
  {
   "cell_type": "markdown",
   "metadata": {},
   "source": [
    "Repeating this formula, we find numerical solutions $y_n\\approx\n",
    "y(x_n)$ for $n=0,1,\\dots,N$: \n",
    "\n",
    "**Euler's method:**\n",
    "\n",
    "* Given a function $f(x,y)$ and an initial value $(x_0,y_0)$.\n",
    "\n",
    "* Choose a step size $h=\\frac{x_{\\text{end}}-x_0}N$. \n",
    "\n",
    "* For $i=0,1,2,\\dotsc, N-1$ \n",
    "\n",
    "  * $\\displaystyle y_{n+1}  = y_{n} + h f(x_n, y_n)$ \n",
    "\n",
    "  * $x_{n+1}=x_n+h$.\n",
    "\n",
    "\n",
    "\n",
    "# Implementation\n",
    "Here is a Python implementation in two parts:\n",
    "\n",
    "* `ode_solver`: This is a generic solver, and can be used by other methods than Euler's. \n",
    "\n",
    "* `euler`:      This function does one step of Euler's method. \n",
    "\n",
    "Start by calling the necessary modules:"
   ]
  },
  {
   "cell_type": "code",
   "execution_count": 1,
   "metadata": {},
   "outputs": [],
   "source": [
    "%matplotlib inline\n",
    "\n",
    "from numpy import *\n",
    "from numpy.linalg import norm\n",
    "from matplotlib.pyplot import *\n",
    "newparams = {'figure.figsize': (8.0, 4.0), 'axes.grid': True,\n",
    "             'lines.markersize': 8, 'lines.linewidth': 2,\n",
    "             'font.size': 14}\n",
    "rcParams.update(newparams)"
   ]
  },
  {
   "cell_type": "code",
   "execution_count": 2,
   "metadata": {},
   "outputs": [],
   "source": [
    "def euler(f, x, y, h):\n",
    "    # One step of the Euler method\n",
    "    y_next = y + h*f(x, y)\n",
    "    x_next = x + h\n",
    "    return x_next, y_next"
   ]
  },
  {
   "cell_type": "code",
   "execution_count": 3,
   "metadata": {},
   "outputs": [],
   "source": [
    "def ode_solver(f, x0, xend, y0, h, method=euler):\n",
    "    # Generic solver for ODEs\n",
    "    #    y' = f(x,y), y(a)=y0\n",
    "    # Input: f, the integration interval x0 and xend, \n",
    "    #        the stepsize h and the method of choice.  \n",
    "    #   \n",
    "    # Output: Arrays with the x- and the corresponding y-values. \n",
    "    \n",
    "    # Initializing:\n",
    "    y_num = array([y0])    # Array for the solution y \n",
    "    x_num = array([x0])    # Array for the x-values\n",
    "\n",
    "    xn = x0                # Running values for x and y\n",
    "    yn = y0 \n",
    "\n",
    "    # Main loop\n",
    "    while xn < xend - 1.e-10:            # Buffer for truncation errors        \n",
    "        xn, yn = method(f, xn, yn, h)    # Do one step by the method of choice\n",
    "        \n",
    "        # Extend the arrays for x and y\n",
    "        y_num = concatenate((y_num, array([yn])))\n",
    "        x_num = append(x_num,xn)\n",
    "        \n",
    "    return x_num, y_num"
   ]
  },
  {
   "cell_type": "markdown",
   "metadata": {},
   "source": [
    "**Example:**\n",
    "Test the implementation of Euler's method on the problem"
   ]
  },
  {
   "cell_type": "markdown",
   "metadata": {},
   "source": [
    "$$\n",
    "y'(x) = -2xy(x), \\qquad y(0)=1, \\qquad 0 \\leq x \\leq 1,\n",
    "$$"
   ]
  },
  {
   "cell_type": "markdown",
   "metadata": {},
   "source": [
    "for which the exact solution $y(x) = e^{-x^2}$.\n",
    "\n",
    "Try with different step sizes, for instance $h=0.1$, $h=0.05$ and $h=0.01$. In\n",
    "each case, compare the numerical solution with the exact one. \n",
    "\n",
    "The following script solves the equation numerically."
   ]
  },
  {
   "cell_type": "code",
   "execution_count": 4,
   "metadata": {},
   "outputs": [
    {
     "data": {
      "image/png": "[encoded data removed]",
      "text/plain": [
       "<Figure size 576x288 with 1 Axes>"
      ]
     },
     "metadata": {
      "needs_background": "light"
     },
     "output_type": "display_data"
    }
   ],
   "source": [
    "# Numerical experiment 1\n",
    "\n",
    "# The right hand side of the ODE\n",
    "def f(x, y):\n",
    "    return -2*x*y\n",
    "\n",
    "# The exact solution, for verification\n",
    "def y_exact(x):\n",
    "    return exp(-x**2)\n",
    "\n",
    "x0, xend = 0, 1               # Integration interval\n",
    "y0 = 1                        # Initial value for y\n",
    "h = 0.1                       # Stepsize\n",
    "\n",
    "# Solve the equation\n",
    "x_num, y_num = ode_solver(f, x0, xend, y0, h)\n",
    "\n",
    "# Plot of the exact solution\n",
    "x = linspace(x0, xend, 101)\n",
    "plot(x, y_exact(x))\n",
    "\n",
    "# Plot of the numerical solution\n",
    "plot(x_num, y_num, '.-')\n",
    "\n",
    "xlabel('x')\n",
    "ylabel('y(x)')\n",
    "legend(['Exact', 'Euler']);"
   ]
  },
  {
   "cell_type": "markdown",
   "metadata": {},
   "source": [
    "We can also make a plot of the error in each step:"
   ]
  },
  {
   "cell_type": "code",
   "execution_count": 5,
   "metadata": {},
   "outputs": [
    {
     "name": "stdout",
     "output_type": "stream",
     "text": [
      "Max error =  0.03480305692859509\n"
     ]
    },
    {
     "data": {
      "image/png": "[encoded data removed]",
      "text/plain": [
       "<Figure size 576x288 with 1 Axes>"
      ]
     },
     "metadata": {
      "needs_background": "light"
     },
     "output_type": "display_data"
    }
   ],
   "source": [
    "# Calculate and plot the error in the x-values\n",
    "error = y_exact(x_num)-y_num\n",
    "plot(x_num, error, '.-')\n",
    "xlabel('x')\n",
    "ylabel('Error in Eulers metode')\n",
    "print('Max error = ', max(abs(error)))  # Print the maximum error"
   ]
  },
  {
   "cell_type": "markdown",
   "metadata": {},
   "source": [
    "\\bigskip\n",
    "Let $h=\\dfrac{x_{end}-x_0}N$ where $N$ is\n",
    "the number of steps.\n",
    "\n",
    "What happens to the\n",
    "the error $e_N = y(x_{end})-y_N$ as $N$ increases? \n",
    "\n",
    "**Example:**\n",
    "Solve the previous example over the interval $[0,1]$.\n",
    "Use different step sizes $h$, and for each $h$, measure the error at $x=1$."
   ]
  },
  {
   "cell_type": "code",
   "execution_count": 6,
   "metadata": {},
   "outputs": [
    {
     "name": "stdout",
     "output_type": "stream",
     "text": [
      "h           error\n",
      "---------------------\n",
      "1.000e-01   1.383e-02\n",
      "5.000e-02   6.505e-03\n",
      "2.500e-02   3.157e-03\n",
      "1.250e-02   1.555e-03\n",
      "6.250e-03   7.720e-04\n",
      "3.125e-03   3.846e-04\n",
      "1.563e-03   1.920e-04\n",
      "7.813e-04   9.589e-05\n",
      "3.906e-04   4.792e-05\n",
      "1.953e-04   2.396e-05\n"
     ]
    }
   ],
   "source": [
    "# Numerical example 2\n",
    "def f(x, y):                # The right hand side of the ODE\n",
    "    return -2*x*y\n",
    "\n",
    "def y_exact(x):            # The exact solution\n",
    "    return exp(-x**2)\n",
    "\n",
    "h = 0.1                     # The stepsize\n",
    "x0, xend = 0, 1             # Integration interval\n",
    "y0 = 1                      # Initial value\n",
    "\n",
    "print('h           error\\n---------------------')\n",
    "\n",
    "# Main loop\n",
    "for n in range(10):\n",
    "    x_num, y_num = ode_solver(f, x0, xend, y0, h)   # Solve the equation \n",
    "    error = abs(y_exact(xend)-y_num[-1])            # Error at the end point\n",
    "    print(format('{:.3e}   {:.3e}'.format( h, error)))   \n",
    "    h = 0.5*h                                       # Reduce the stepsize"
   ]
  },
  {
   "cell_type": "markdown",
   "metadata": {},
   "source": [
    "The table generated from this code shows that whenever the step size is reduced\n",
    "with a factor of 0.5, so is the error. Therefore it seems that\n",
    "$|y(x_{end}) - y_N| \\approx C h$ and that we have a first order method.\n",
    "\n",
    "\n",
    "**Exercise:**\n",
    "Repeat the examples 1 and 2 on a [logistic\n",
    "equation](https://en.wikipedia.org/wiki/Logistic_function#Applications), given\n",
    "by"
   ]
  },
  {
   "cell_type": "markdown",
   "metadata": {},
   "source": [
    "$$\n",
    "y' = y(1-y), \\qquad y(0) = y_0,\n",
    "$$"
   ]
  },
  {
   "cell_type": "markdown",
   "metadata": {},
   "source": [
    "on the interval $[0,10]$. The exact solution is $y(x) =\n",
    "\\frac{1}{1-(1-\\frac{1}{y_0})e^{-x}}$.\n",
    "\n",
    "Solve the problem numerically when $y_0=0.1$ using different step\n",
    "sizes $h$. Try\n",
    "different initial values."
   ]
  }
 ],
 "metadata": {
  "kernelspec": {
   "display_name": "Python 3",
   "language": "python",
   "name": "python3"
  },
  "language_info": {
   "codemirror_mode": {
    "name": "ipython",
    "version": 3
   },
   "file_extension": ".py",
   "mimetype": "text/x-python",
   "name": "python",
   "nbconvert_exporter": "python",
   "pygments_lexer": "ipython3",
   "version": "3.8.3"
  }
 },
 "nbformat": 4,
 "nbformat_minor": 2
}
