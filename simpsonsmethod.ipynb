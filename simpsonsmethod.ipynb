{
 "cells": [
  {
   "cell_type": "markdown",
   "metadata": {},
   "source": [
    "<!-- KODE = \"ja\", \"nei\", default \"ja\" -->\n",
    "\n",
    "\n",
    "\n",
    "<!-- dom:AUTHOR: TMA4100 Matematikk 1 -->\n",
    "<!-- Author: -->  \n",
    "**TMA4100 Matematikk 1**\n",
    "<!-- dom:TITLE: Simpson's method for numerical integration -->\n",
    "# Simpson's method for numerical integration\n",
    "\n",
    "Date: **Oct 1, 2019**\n",
    "\n",
    "# Simpson's method\n",
    "Simplon's method gives a numerical approximation of a determinate integral"
   ]
  },
  {
   "cell_type": "markdown",
   "metadata": {},
   "source": [
    "$$\n",
    "\\int_a^b f(x) dx.\n",
    "$$"
   ]
  },
  {
   "cell_type": "markdown",
   "metadata": {},
   "source": [
    "Such approximations are called *numerical quadratures* and are usually of the form"
   ]
  },
  {
   "cell_type": "markdown",
   "metadata": {},
   "source": [
    "$$\n",
    "\\sum_{i=0}^n w_i f(x_i),\n",
    "$$"
   ]
  },
  {
   "cell_type": "markdown",
   "metadata": {},
   "source": [
    "where $x_i$, $w_i$ for $i=0,1,\\dotsc,n$  are called *nodes* and *weights*.\n",
    "The [trapezoidal, midpoint, and Simpson's\n",
    "rules](https://wiki.math.ntnu.no/tma4100/tema/numerics?&#numerisk_integrasjon)\n",
    "are all examples from the Newton-Cotes family of quadratures. \n",
    "\n",
    "Divide $[a,b]$ into $2n$ subintervals of length \n",
    "$h = (b-a)/(2n)$ and let $x_j = a+jh$, $j=0,\\cdots,2n$. Approximate $f$\n",
    "by a second order polynomial on each subinterval $[x_{2j}, x_{2j+2}]$\n",
    "and integrate. The result is:\n",
    "\n",
    "**Simpson's method.**\n",
    "\n",
    "  * Choose the number of subintervals $2n$\n",
    "\n",
    "  * Let $h = \\dfrac{b-a}{2n}, \\qquad x_j = a+jh,\\qquad$and$\\qquad y_j=f(x_j)\\qquad$for $i=0,\\cdots,2n$"
   ]
  },
  {
   "cell_type": "markdown",
   "metadata": {},
   "source": [
    "$$\n",
    "\\begin{align*}\n",
    "S_{2n}&=\\dfrac{h}{3}\\bigg(y_0+4\\sum_{k=1}^{n}y_{2k-1}+2\\sum_{k=1}^{n-1}y_{2k}+y_{2n}\\bigg)=\\dfrac{h}{3}\\bigg(y_0+4y_1+2y_2+4y_3+\\dots+2y_{2n-2}+4y_{2n-1}+y_{2n}\\bigg)\n",
    "\\end{align*}\n",
    "$$"
   ]
  },
  {
   "cell_type": "markdown",
   "metadata": {},
   "source": [
    "**Error in Simpson's method.**\n",
    "\n",
    "Assume $f^{(4)}(x)$ is continuous on $[a,b]$. Then there is $\\xi \\in (a,b)$ such that"
   ]
  },
  {
   "cell_type": "markdown",
   "metadata": {},
   "source": [
    "$$\n",
    "\\int_a^b f(x)dx - S_{2n} = -\\frac{(b-a)h^4}{180} f^{(4)}(\\xi).\n",
    "$$"
   ]
  },
  {
   "cell_type": "markdown",
   "metadata": {},
   "source": [
    "# Implementation and testing\n",
    "Import necessary libraries, initialize parameters, and define a\n",
    "python function computing Simpson's method:"
   ]
  },
  {
   "cell_type": "code",
   "execution_count": 1,
   "metadata": {
    "collapsed": false
   },
   "outputs": [],
   "source": [
    "%matplotlib inline\n",
    "\n",
    "from numpy import *\n",
    "from matplotlib.pyplot import *\n",
    "newparams = {'figure.figsize': (8.0, 4.0), 'axes.grid': True,\n",
    "             'lines.markersize': 8, 'lines.linewidth': 2,\n",
    "             'font.size': 14}\n",
    "rcParams.update(newparams)"
   ]
  },
  {
   "cell_type": "code",
   "execution_count": 2,
   "metadata": {
    "collapsed": false
   },
   "outputs": [],
   "source": [
    "def simpson(f, a, b, m=10):\n",
    "# Find an approximation to an integral by the composite Simpson's method:\n",
    "# Input:  \n",
    "#   f:    integrand\n",
    "#   a, b: integration interval\n",
    "#   2*m:  number of subintervals\n",
    "# Output: The approximation to the integral\n",
    "    n = 2*m\n",
    "    x_noder = linspace(a, b, n+1)       # equidistributed nodes from a to b \n",
    "    h = (b-a)/n                         # stepsize\n",
    "    S1 = f(x_noder[0]) + f(x_noder[n])  # S1 = f(x_0)+f(x_n)\n",
    "    S2 = sum(f(x_noder[1:n:2]))         # S2 = f(x_1)+f(x_3)+...+f(x_m)\n",
    "    S3 = sum(f(x_noder[2:n-1:2]))       # S3 = f(x_2)+f(x_4)+...+f(x_{m-1})\n",
    "    S = h*(S1 + 4*S2 + 2*S3)/3\n",
    "    return S"
   ]
  },
  {
   "cell_type": "markdown",
   "metadata": {},
   "source": [
    "**Numerical experiment 1:**\n",
    "Test the code on the integral"
   ]
  },
  {
   "cell_type": "markdown",
   "metadata": {},
   "source": [
    "$$\n",
    "\\int_{-1}^2(4x^3+x^2+2x-1)dx.\n",
    "$$"
   ]
  },
  {
   "cell_type": "code",
   "execution_count": 3,
   "metadata": {
    "collapsed": false
   },
   "outputs": [],
   "source": [
    "# Numerical experiment 1\n",
    "def f(x):                   # Integrand\n",
    "    return 4*x**3+x**2+2*x-1    \n",
    "a, b = -1, 2                # Integration interval\n",
    "S = simpson(f, a, b, m=1)   # Numerical solution, using m subintervals   \n",
    "print('S = {:.8f}'.format(S))"
   ]
  },
  {
   "cell_type": "markdown",
   "metadata": {},
   "source": [
    "From the theoretical error estimate it follows that Simpson's rule\n",
    "integrates 3rd degree polynomials exactly (why?). Our experiment\n",
    "confirms this since the exact value of the integral is 18 (check it!).\n",
    "\n",
    "\n",
    "**Numerical experiment 2:**\n",
    "Test the code on the integral, and compare with the exact result."
   ]
  },
  {
   "cell_type": "markdown",
   "metadata": {},
   "source": [
    "$$\n",
    "\\int_0^1 \\cos\\left(\\frac{\\pi x}{2}\\right )dx = \\frac{2}{\\pi}.\n",
    "$$"
   ]
  },
  {
   "cell_type": "markdown",
   "metadata": {},
   "source": [
    "Use the function 'simpson' with $m=1,2,4,8,16$ and see how the error decreases\n",
    "with increasing $m$."
   ]
  },
  {
   "cell_type": "code",
   "execution_count": 4,
   "metadata": {
    "collapsed": false
   },
   "outputs": [],
   "source": [
    "# Numerical experiment 2\n",
    "def f(x):\n",
    "    return cos(0.5*pi*x)\n",
    "a, b = 0, 1\n",
    "I_exact = 2/pi\n",
    "for m in [1,2,4,8,16]:\n",
    "    S = simpson(f, a, b, m=m)   # Numerical solution, using m subintervals   \n",
    "    err = I_exact-S             # Error\n",
    "    if m == 1:\n",
    "        print('m = {:3d},  error = {:.3e}'.format(m, err))\n",
    "    else:\n",
    "        print('m = {:3d},  error = {:.3e},  reduction factor = {:.3e}'.format(m, err, err/err_prev))\n",
    "    err_prev=err"
   ]
  },
  {
   "cell_type": "markdown",
   "metadata": {},
   "source": [
    "We observe that the error is reduced by a factor\n",
    "about $0.0625 = 1/16=\\big(\\frac1{2}\\big)^4$ when the number of subintervals increased by\n",
    "a factor 2. This is exactly what you expect from the error estimate above.\n",
    "\n",
    "\n",
    "**Exercise:** \n",
    "Use Simpson's method to compute approximate integrals of more complicated functions."
   ]
  }
 ],
 "metadata": {},
 "nbformat": 4,
 "nbformat_minor": 2
}
